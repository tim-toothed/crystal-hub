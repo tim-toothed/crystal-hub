{
 "cells": [
  {
   "cell_type": "code",
   "execution_count": 1,
   "id": "24d85eee",
   "metadata": {},
   "outputs": [
    {
     "name": "stderr",
     "output_type": "stream",
     "text": [
      "c:\\Users\\Timur\\Documents\\Python_Scripts\\AI\\Physics\\venv\\Lib\\site-packages\\PyCrystalField\\PyCrystalField.py:596: SyntaxWarning: invalid escape sequence '\\s'\n",
      "  \"\"\"Computes \\sum_a |<|J_a|>|^2\"\"\"\n",
      "c:\\Users\\Timur\\Documents\\Python_Scripts\\AI\\Physics\\venv\\Lib\\site-packages\\PyCrystalField\\PyCrystalField.py:1673: SyntaxWarning: invalid escape sequence '\\s'\n",
      "  \"\"\"Computes \\sum_a |<|J_a|>|^2 = \\sum_a |<|L_a + S_a|>|^2\"\"\"\n",
      "c:\\Users\\Timur\\Documents\\Python_Scripts\\AI\\Physics\\venv\\Lib\\site-packages\\PyCrystalField\\PyCrystalField.py:1681: SyntaxWarning: invalid escape sequence '\\s'\n",
      "  \"\"\"Computes \\sum_a |<|J_a|>|^2 = \\sum_a |<|L_a + S_a|>|^2, including the\n",
      "c:\\Users\\Timur\\Documents\\Python_Scripts\\AI\\Physics\\venv\\Lib\\site-packages\\PyCrystalField\\PyCrystalField.py:1848: SyntaxWarning: invalid escape sequence '\\c'\n",
      "  \"\"\"Computes susceptibility with\n"
     ]
    },
    {
     "name": "stdout",
     "output_type": "stream",
     "text": [
      " *******************************************************\n",
      " *                PyCrystalField 2.3.11               *\n",
      " *  Please cite  J. Appl. Cryst. (2021). 54, 356-362   * \n",
      " *    <https://doi.org/10.1107/S160057672001554X>      *\n",
      " *******************************************************\n",
      "\n"
     ]
    }
   ],
   "source": [
    "# working on Win 11, Python 3.12.7, clean venv\n",
    "#! pip install git+https://github.com/asche1/PyCrystalField.git@master\n",
    "\n",
    "import numpy as np\n",
    "import PyCrystalField as cef\n",
    "import matplotlib.pyplot as plt"
   ]
  },
  {
   "cell_type": "markdown",
   "id": "4bf240c3",
   "metadata": {},
   "source": [
    "### The `importCIF` Function 💾\n",
    "\n",
    "The `importCIF` function in the PyCrystalField library is a tool used to generate a point charge model for a crystal field calculation from a Crystallographic Information File (CIF). It automatically identifies the central magnetic ion and its neighboring ligands, calculates the crystal field parameters, and returns the necessary objects for further analysis. This function is particularly useful for studying rare-earth and some transition metal ions.\n",
    "\n",
    "\\<br\\>\n",
    "\n",
    "-----\n",
    "\n",
    "### Parameters ⚙️\n",
    "\n",
    "  * `ciffile` (str): The file path to the CIF file. This is the **only required parameter**.\n",
    "  * `mag_ion` (str, optional): The symbol of the central magnetic ion (e.g., 'Nd' or 'Er'). If not provided, the function will attempt to identify the first rare-earth element in the CIF file's asymmetric unit cell and use it as the magnetic ion.\n",
    "  * `Zaxis` (list or str, optional): The crystallographic direction to be used as the z-axis for the crystal field calculation. It can be a vector `[h, k, l]` or a string '100', '111', etc. If not specified, the function attempts to find an appropriate symmetry axis.\n",
    "  * `Yaxis` (list or str, optional): The crystallographic direction for the y-axis, specified as a vector or string. This is typically used to define the coordinate system when the z-axis alone isn't sufficient.\n",
    "  * `LS_Coupling` (float, optional): The spin-orbit coupling constant for the central ion in meV. If provided, the function will use this value instead of looking up a pre-defined value from its internal tables.\n",
    "  * `crystalImage` (bool, optional): If `True`, the function will generate a 3D visualization of the crystal structure, showing the central ion and its neighbors.\n",
    "  * `NumIonNeighbors` (int, optional): The number of neighboring ions to consider as ligands for the crystal field calculation. The function will use the closest `NumIonNeighbors` ions. The default value is 1.\n",
    "  * `ForceImaginary` (bool, optional): If `True`, forces the inclusion of imaginary components in the crystal field parameters, even if the symmetry of the ligand environment suggests a real-only point charge model.\n",
    "  * `ionL` (int, optional): The orbital angular momentum quantum number ($L$) for the central transition metal ion. This parameter is **required for transition metals**.\n",
    "  * `ionS` (float, optional): The spin angular momentum quantum number ($S$) for the central transition metal ion. This parameter is **required for transition metals**.\n",
    "  * `CoordinationNumber` (int, optional): An alternative to `NumIonNeighbors`. This specifies a specific coordination number. The function will select the `CoordinationNumber` closest ions.\n",
    "  * `MaxDistance` (float, optional): Specifies the maximum distance (in angstroms) from the central ion to consider a neighboring atom as a ligand.\n",
    "\n",
    "\\<br\\>\n",
    "\n",
    "-----\n",
    "\n",
    "### Return Values ⏎\n",
    "\n",
    "The `importCIF` function returns one or two objects, depending on the number of unique magnetic ion sites identified in the CIF file:\n",
    "\n",
    "  * **Single Site:**\n",
    "      * `Lig` (object): An instance of the `Ligands` or `LS_Ligands` class, containing information about the central ion and its ligand environment (positions, names, etc.).\n",
    "      * `PCM` (object): An instance of the `PointChargeModel` or `TMPointChargeModel` class, which holds the calculated crystal field parameters and allows for further analysis.\n",
    "  * **Multiple Sites:**\n",
    "      * `output` (list): A list of lists, where each inner list contains `[Lig, PCM]` for a different magnetic ion site. This occurs when the CIF file defines a magnetic ion with multiple, crystallographically distinct positions.\n",
    "\n",
    "\\<br\\>\n",
    "\n",
    "-----\n",
    "\n",
    "### Usage Example 💻\n",
    "\n",
    "```python\n",
    "from pcf_lib.cif_import import importCIF\n",
    " \n",
    "# For a rare-earth ion\n",
    "ligands, cf_model = importCIF('ErSc3(BO3)4.cif')\n",
    " \n",
    "# For a transition metal ion, specifying L and S\n",
    "ligands_tm, cf_model_tm = importCIF('Li2Cu(SO4)2.cif', mag_ion='Cu', ionL=2, ionS=0.5)\n",
    "```"
   ]
  },
  {
   "cell_type": "markdown",
   "id": "7f036b08",
   "metadata": {},
   "source": [
    "### Import CIF + Eigen Vectors"
   ]
  },
  {
   "cell_type": "code",
   "execution_count": 2,
   "id": "7f196efc",
   "metadata": {},
   "outputs": [
    {
     "name": "stdout",
     "output_type": "stream",
     "text": [
      "unit cell: 10.0 10.0 10.0 90.0 90.0 90.0\n",
      "Importing atoms\n",
      "   7 atoms added\n",
      ".cif import complete.\n",
      "Central ion: Ho at [0.5, 0.5, 0.5]\n",
      "    AAAH! There is a super-close atom. Removing it...\n",
      "   Identified 12 O ligands.\n",
      "    No mirror planes and no rotations in point group: ['x, y, z']\n",
      "\tFound a near-4-fold axis...  CSM= 1.8522815781099066e-29\n",
      "    No charges found in cif file... guessing the O ligands are charged -2 ,\n",
      "       and assuming the central ion has a 3+ charge: Ho3+\n",
      "\n",
      "\u001b[44m  Axes for point charge model (in ABC space):\n",
      "        X axis = [-1.00000000e+00  1.00927633e-32  6.85805232e-17] \n",
      "        Y axis = [ 0.00000000e+00 -1.00000000e+00  1.47166612e-16] \n",
      "        Z axis = [6.85805232e-17 1.47166612e-16 1.00000000e+00] \u001b[0m\n",
      "\n",
      "     \u001b[43m WARNING: there is no mirror symmetry along the Y axis, so \n",
      "\u001b[0m     \u001b[43m   we must inlcude the -m terms, and the eigenkets will be complex.\u001b[0m\n",
      "\n"
     ]
    },
    {
     "ename": "TypeError",
     "evalue": "cannot unpack non-iterable NoneType object",
     "output_type": "error",
     "traceback": [
      "\u001b[31m---------------------------------------------------------------------------\u001b[39m",
      "\u001b[31mTypeError\u001b[39m                                 Traceback (most recent call last)",
      "\u001b[36mCell\u001b[39m\u001b[36m \u001b[39m\u001b[32mIn[2]\u001b[39m\u001b[32m, line 3\u001b[39m\n\u001b[32m      1\u001b[39m \u001b[38;5;28;01mimport\u001b[39;00m\u001b[38;5;250m \u001b[39m\u001b[34;01mPyCrystalField\u001b[39;00m\u001b[38;5;250m \u001b[39m\u001b[38;5;28;01mas\u001b[39;00m\u001b[38;5;250m \u001b[39m\u001b[34;01mcef\u001b[39;00m\n\u001b[32m----> \u001b[39m\u001b[32m3\u001b[39m Lig, CF = cef.importCIF(\n\u001b[32m      4\u001b[39m     \u001b[33m\"\u001b[39m\u001b[33mDyO6.cif\u001b[39m\u001b[33m\"\u001b[39m, \u001b[33m\"\u001b[39m\u001b[33mHo1\u001b[39m\u001b[33m\"\u001b[39m,\n\u001b[32m      5\u001b[39m     CoordinationNumber=\u001b[32m12\u001b[39m,\n\u001b[32m      6\u001b[39m     ligand_elements=[\u001b[33m\"\u001b[39m\u001b[33mO\u001b[39m\u001b[33m\"\u001b[39m],           \u001b[38;5;66;03m# считаем лигандами только кислороды\u001b[39;00m\n\u001b[32m      7\u001b[39m     charges_by_element={\u001b[33m\"\u001b[39m\u001b[33mO\u001b[39m\u001b[33m\"\u001b[39m: -\u001b[32m2\u001b[39m},    \u001b[38;5;66;03m# задаём заряды явно\u001b[39;00m\n\u001b[32m      8\u001b[39m     printB=\u001b[38;5;28;01mFalse\u001b[39;00m,                    \u001b[38;5;66;03m# не печатать все B_k^q\u001b[39;00m\n\u001b[32m      9\u001b[39m     solution_index=\u001b[32m0\u001b[39m                 \u001b[38;5;66;03m# если опций несколько — брать первую\u001b[39;00m\n\u001b[32m     10\u001b[39m )\n\u001b[32m     11\u001b[39m CF.diagonalize()\n",
      "\u001b[31mTypeError\u001b[39m: cannot unpack non-iterable NoneType object"
     ]
    }
   ],
   "source": [
    "import PyCrystalField as cef\n",
    "\n",
    "Lig, CF = cef.importCIF(\n",
    "    \"DyO6.cif\", \"Ho1\",\n",
    "    CoordinationNumber=12,\n",
    "    ligand_elements=[\"O\"],           # считаем лигандами только кислороды\n",
    "    charges_by_element={\"O\": -2},    # задаём заряды явно\n",
    "    printB=False,                    # не печатать все B_k^q\n",
    "    solution_index=0                 # если опций несколько — брать первую\n",
    ")\n",
    "CF.diagonalize()"
   ]
  },
  {
   "cell_type": "code",
   "execution_count": 5,
   "id": "89b50e36",
   "metadata": {},
   "outputs": [
    {
     "name": "stdout",
     "output_type": "stream",
     "text": [
      "unit cell: 10.0 10.0 10.0 90.0 90.0 90.0\n",
      "Importing atoms\n",
      "   7 atoms added\n",
      ".cif import complete.\n"
     ]
    },
    {
     "ename": "TypeError",
     "evalue": "'in <string>' requires string as left operand, not NoneType",
     "output_type": "error",
     "traceback": [
      "\u001b[1;31m---------------------------------------------------------------------------\u001b[0m",
      "\u001b[1;31mTypeError\u001b[0m                                 Traceback (most recent call last)",
      "Cell \u001b[1;32mIn[5], line 2\u001b[0m\n\u001b[0;32m      1\u001b[0m \u001b[38;5;66;03m########### Import CIF file\u001b[39;00m\n\u001b[1;32m----> 2\u001b[0m ligands , Ho \u001b[38;5;241m=\u001b[39m \u001b[43mcef\u001b[49m\u001b[38;5;241;43m.\u001b[39;49m\u001b[43mimportCIF\u001b[49m\u001b[43m(\u001b[49m\u001b[38;5;124;43m'\u001b[39;49m\u001b[38;5;124;43mdata_Octa_FeO6.cif\u001b[39;49m\u001b[38;5;124;43m'\u001b[39;49m\u001b[43m)\u001b[49m\n\u001b[0;32m      4\u001b[0m \u001b[38;5;66;03m# Параметры: \u001b[39;00m\n\u001b[0;32m      5\u001b[0m \u001b[38;5;66;03m# .cif file\u001b[39;00m\n\u001b[0;32m      6\u001b[0m \u001b[38;5;66;03m# mag_ion - Magnetic ion (automatically picks the first rare earth ion if none specified)\u001b[39;00m\n\u001b[0;32m      7\u001b[0m \u001b[38;5;66;03m# NumIonNeighbours - optional, number of ion neighbours (default = 1)\u001b[39;00m\n\u001b[0;32m      8\u001b[0m \n\u001b[0;32m      9\u001b[0m \u001b[38;5;66;03m########### print eigenvectors\u001b[39;00m\n\u001b[0;32m     10\u001b[0m Ho\u001b[38;5;241m.\u001b[39mprintEigenvectors()\n",
      "File \u001b[1;32mc:\\Users\\Timur\\anaconda3\\Lib\\site-packages\\PyCrystalField\\PyCrystalField.py:2247\u001b[0m, in \u001b[0;36mimportCIF\u001b[1;34m(ciffile, mag_ion, Zaxis, Yaxis, LS_Coupling, crystalImage, NumIonNeighbors, ForceImaginary, ionL, ionS, CoordinationNumber, MaxDistance)\u001b[0m\n\u001b[0;32m   2242\u001b[0m output \u001b[38;5;241m=\u001b[39m []\n\u001b[0;32m   2244\u001b[0m \u001b[38;5;28;01mfor\u001b[39;00m cf \u001b[38;5;129;01min\u001b[39;00m cifs:\n\u001b[0;32m   2245\u001b[0m \n\u001b[0;32m   2246\u001b[0m     \u001b[38;5;66;03m## Calculate the ligand positions\u001b[39;00m\n\u001b[1;32m-> 2247\u001b[0m     centralIon, ligandPositions, ligandCharge, inv, ligandNames, CartM, CentralIonPos \u001b[38;5;241m=\u001b[39m \u001b[43mFindPointGroupSymOps\u001b[49m\u001b[43m(\u001b[49m\u001b[43mcf\u001b[49m\u001b[43m,\u001b[49m\u001b[43m \u001b[49m\n\u001b[0;32m   2248\u001b[0m \u001b[43m                                                                \u001b[49m\u001b[43mmag_ion\u001b[49m\u001b[43m,\u001b[49m\u001b[43m \u001b[49m\u001b[43mZaxis\u001b[49m\u001b[43m,\u001b[49m\u001b[43m \u001b[49m\n\u001b[0;32m   2249\u001b[0m \u001b[43m                                                                \u001b[49m\u001b[43mYaxis\u001b[49m\u001b[43m,\u001b[49m\u001b[43m \u001b[49m\u001b[43mcrystalImage\u001b[49m\u001b[43m,\u001b[49m\u001b[43mNumIonNeighbors\u001b[49m\u001b[43m,\u001b[49m\n\u001b[0;32m   2250\u001b[0m \u001b[43m                                                                \u001b[49m\u001b[43mCoordinationNumber\u001b[49m\u001b[43m,\u001b[49m\u001b[43m \u001b[49m\u001b[43mMaxDistance\u001b[49m\u001b[43m)\u001b[49m\n\u001b[0;32m   2251\u001b[0m     \u001b[38;5;66;03m#print(ligandNames)\u001b[39;00m\n\u001b[0;32m   2252\u001b[0m     \u001b[38;5;28;01mif\u001b[39;00m centralIon \u001b[38;5;129;01min\u001b[39;00m Jion: \u001b[38;5;66;03m# It's a rare earth ion\u001b[39;00m\n",
      "File \u001b[1;32mc:\\Users\\Timur\\anaconda3\\Lib\\site-packages\\pcf_lib\\cifsymmetryimport.py:28\u001b[0m, in \u001b[0;36mFindPointGroupSymOps\u001b[1;34m(self, ion, Zaxis, Yaxis, crystalImage, NumIonNeighbors, CoordinationNumber, maxDistance)\u001b[0m\n\u001b[0;32m     26\u001b[0m site \u001b[38;5;241m=\u001b[39m []\n\u001b[0;32m     27\u001b[0m \u001b[38;5;28;01mfor\u001b[39;00m i,auc \u001b[38;5;129;01min\u001b[39;00m \u001b[38;5;28menumerate\u001b[39m(\u001b[38;5;28mself\u001b[39m\u001b[38;5;241m.\u001b[39masymunitcell):\n\u001b[1;32m---> 28\u001b[0m \t\u001b[38;5;28;01mif\u001b[39;00m \u001b[43mion\u001b[49m\u001b[43m \u001b[49m\u001b[38;5;129;43;01min\u001b[39;49;00m\u001b[43m \u001b[49m\u001b[43mauc\u001b[49m\u001b[43m[\u001b[49m\u001b[38;5;241;43m0\u001b[39;49m\u001b[43m]\u001b[49m:\n\u001b[0;32m     29\u001b[0m \t\tsite\u001b[38;5;241m.\u001b[39mappend(auc)\n\u001b[0;32m     31\u001b[0m \u001b[38;5;28;01mif\u001b[39;00m \u001b[38;5;28mlen\u001b[39m(site) \u001b[38;5;241m>\u001b[39m \u001b[38;5;241m1\u001b[39m:\n",
      "\u001b[1;31mTypeError\u001b[0m: 'in <string>' requires string as left operand, not NoneType"
     ]
    }
   ],
   "source": [
    "########### Import CIF file\n",
    "ligands , Ho = cef.importCIF('data_Octa_FeO6.cif')\n",
    "\n",
    "# Параметры: \n",
    "# .cif file\n",
    "# mag_ion - Magnetic ion (automatically picks the first rare earth ion if none specified)\n",
    "# NumIonNeighbours - optional, number of ion neighbours (default = 1)\n",
    "\n",
    "########### print eigenvectors\n",
    "Ho.printEigenvectors()"
   ]
  },
  {
   "cell_type": "markdown",
   "id": "c662d18c",
   "metadata": {},
   "source": [
    "## Объяснение \n",
    "\n",
    "![explain_importcif](explain_importcif.png)\n",
    "\n",
    "Мы встретили вот эту рекурсию с двумя вариаблами (`ligands` , `Ho`) выходящими из одной команды (importCIF), потому что это правильно с точки зрения физики\n",
    "- Из .cif файла он делает Point Charge Model (`ligands` class) через процесс \"fit point charge\" (не ебу что это)\n",
    "- Из `ligands` class + CEF parameters из .cif = CEF Hamiltonian (`CFLevels` class или `Ho` - по названию mag_ion)\n"
   ]
  },
  {
   "cell_type": "markdown",
   "id": "47c4cd79",
   "metadata": {},
   "source": [
    "### LaTeX table"
   ]
  },
  {
   "cell_type": "code",
   "execution_count": 56,
   "id": "b2f00ab3",
   "metadata": {},
   "outputs": [],
   "source": [
    "# LaTeX eigenvectors\n",
    "latex_eigen = Ho.printLaTexEigenvectors()"
   ]
  },
  {
   "cell_type": "code",
   "execution_count": 55,
   "id": "e7185219",
   "metadata": {},
   "outputs": [
    {
     "data": {
      "text/markdown": [
       "\\begin{table*}\n",
       "\\caption{Eigenvectors and Eigenvalues...}\n",
       "\\begin{ruledtabular}\n",
       "\\begin{tabular}{c|ccccccccccccccccc}\n",
       "E (meV) &$|-8\\rangle$ & $|-7\\rangle$ & $|-6\\rangle$ & $|-5\\rangle$ & $|-4\\rangle$ & $|-3\\rangle$ & $|-2\\rangle$ & $|-1\\rangle$ & $|0\\rangle$ & $|1\\rangle$ & $|2\\rangle$ & $|3\\rangle$ & $|4\\rangle$ & $|5\\rangle$ & $|6\\rangle$ & $|7\\rangle$ & $|8\\rangle$ \\tabularnewline\n",
       " \\hline \n",
       "0.000 & -0.0326 & -0.047 & -0.0461 & 0.1473 & 0.438 & 0.4461 & 0.2795 & 0.0463 & -0.0593 & -0.0463 & 0.2795 & -0.4461 & 0.438 & -0.1473 & -0.0461 & 0.047 & -0.0326 \\tabularnewline\n",
       "0.065 & -0.0272 & -0.0554 & -0.0366 & 0.1496 & 0.4162 & 0.4924 & 0.2349 & 0.0403 & 0.0 & 0.0403 & -0.2349 & 0.4924 & -0.4162 & 0.1496 & 0.0366 & -0.0554 & 0.0272 \\tabularnewline\n",
       "5.484 & -0.0353 & 0.0114 & 0.1507 & 0.3969 & 0.2658 & -0.135 & -0.3525 & -0.3068 & -0.1492 & 0.3068 & -0.3525 & 0.135 & 0.2658 & -0.3969 & 0.1507 & -0.0114 & -0.0353 \\tabularnewline\n",
       "5.631 & 0.0427 & -0.0145 & -0.1628 & -0.3713 & -0.3005 & 0.1446 & 0.3989 & 0.2515 & -0.0 & 0.2515 & -0.3989 & 0.1446 & 0.3005 & -0.3713 & 0.1628 & -0.0145 & -0.0427 \\tabularnewline\n",
       "16.560 & -0.1568 & 0.0371 & -0.3171 & -0.3222 & 0.0609 & 0.072 & -0.1324 & -0.23 & -0.617 & 0.23 & -0.1324 & -0.072 & 0.0609 & 0.3222 & -0.3171 & -0.0371 & -0.1568 \\tabularnewline\n",
       "16.782 & 0.0602 & -0.1292 & -0.1992 & -0.3344 & -0.0129 & 0.2093 & -0.1708 & -0.505 & 0.0 & -0.505 & 0.1708 & 0.2093 & 0.0129 & -0.3344 & 0.1992 & -0.1292 & -0.0602 \\tabularnewline\n",
       "17.839 & 0.5325 & -0.3137 & 0.2674 & 0.1245 & -0.1478 & 0.0945 & 0.015 & -0.0063 & -0.0 & -0.0063 & -0.015 & 0.0945 & 0.1478 & 0.1245 & -0.2674 & -0.3137 & -0.5325 \\tabularnewline\n",
       "18.154 & 0.5252 & -0.3559 & 0.1052 & -0.0569 & -0.1006 & 0.1713 & -0.0687 & -0.127 & -0.2141 & 0.127 & -0.0687 & -0.1713 & -0.1006 & 0.0569 & 0.1052 & 0.3559 & 0.5252 \\tabularnewline\n",
       "24.291 & 0.057 & -0.1338 & 0.0285 & -0.3298 & 0.2361 & 0.0467 & -0.3943 & 0.3948 & -0.0 & 0.3948 & 0.3943 & 0.0467 & -0.2361 & -0.3298 & -0.0285 & -0.1338 & -0.057 \\tabularnewline\n",
       "25.239 & 0.1205 & -0.0731 & -0.4778 & 0.1 & 0.0026 & -0.0817 & 0.1021 & -0.321 & 0.4935 & 0.321 & 0.1021 & 0.0817 & 0.0026 & -0.1 & -0.4778 & 0.0731 & 0.1205 \\tabularnewline\n",
       "25.732 & -0.1458 & -0.1418 & 0.1149 & -0.3217 & 0.1401 & 0.2184 & -0.3556 & -0.0459 & 0.5404 & 0.0459 & -0.3556 & -0.2184 & 0.1401 & 0.3217 & 0.1149 & 0.1418 & -0.1458 \\tabularnewline\n",
       "25.741 & 0.2795 & -0.0907 & -0.5481 & 0.1366 & 0.1674 & -0.2463 & 0.0481 & 0.0596 & 0.0 & 0.0596 & -0.0481 & -0.2463 & -0.1674 & 0.1366 & 0.5481 & -0.0907 & -0.2795 \\tabularnewline\n",
       "27.992 & -0.2143 & 0.0606 & 0.2486 & 0.0453 & -0.327 & 0.2415 & 0.2031 & -0.4237 & 0.0339 & 0.4237 & 0.2031 & -0.2415 & -0.327 & -0.0453 & 0.2486 & -0.0606 & -0.2143 \\tabularnewline\n",
       "32.263 & 0.3543 & 0.5436 & 0.1123 & -0.1681 & 0.1747 & -0.0276 & 0.0529 & -0.0636 & -0.0 & -0.0636 & -0.0529 & -0.0276 & -0.1747 & -0.1681 & -0.1123 & 0.5436 & -0.3543 \\tabularnewline\n",
       "32.452 & -0.3313 & -0.5209 & -0.1281 & 0.2083 & -0.1693 & 0.0107 & -0.0451 & 0.1512 & -0.1043 & -0.1512 & -0.0451 & -0.0107 & -0.1693 & -0.2083 & -0.1281 & 0.5209 & -0.3313 \\tabularnewline\n",
       "34.844 & 0.0584 & 0.2449 & -0.2171 & 0.2384 & -0.3165 & 0.3468 & -0.3093 & 0.1286 & 0.0 & 0.1286 & 0.3093 & 0.3468 & 0.3165 & 0.2384 & 0.2171 & 0.2449 & -0.0584 \\tabularnewline\n",
       "35.060 & -0.0765 & -0.263 & 0.2095 & -0.234 & 0.2617 & -0.3679 & 0.3086 & -0.1651 & -0.0072 & 0.1651 & 0.3086 & 0.3679 & 0.2617 & 0.234 & 0.2095 & 0.263 & -0.0765 \\tabularnewline\n",
       "\\end{tabular}\\end{ruledtabular}\n",
       "\\label{flo:Eigenvectors}\n",
       "\\end{table*}\n"
      ],
      "text/plain": [
       "<IPython.core.display.Markdown object>"
      ]
     },
     "metadata": {},
     "output_type": "display_data"
    }
   ],
   "source": [
    "from IPython.display import display, Markdown\n",
    "import sys\n",
    "import io\n",
    "from IPython.display import display, Markdown\n",
    "\n",
    "# Create a string buffer\n",
    "captured_output = io.StringIO()\n",
    "\n",
    "# Redirect stdout to the buffer\n",
    "sys.stdout = captured_output\n",
    "\n",
    "# Call the function that prints the LaTeX code\n",
    "Ho.printLaTexEigenvectors()\n",
    "\n",
    "# Restore stdout to its original state\n",
    "sys.stdout = sys.__stdout__\n",
    "\n",
    "# Get the value from the buffer\n",
    "original_latex_string = captured_output.getvalue()\n",
    "\n",
    "display(Markdown(original_latex_string))"
   ]
  },
  {
   "cell_type": "code",
   "execution_count": 32,
   "id": "636afec1",
   "metadata": {},
   "outputs": [],
   "source": [
    "# calculate magnetization at 2 K\n",
    "temp = 2 #temperature in K\n",
    "\n",
    "FieldStrengths = np.linspace(-10,10,101) \n",
    "magnetization = np.zeros((len (FieldStrengths), 3, 3))\n",
    "ion='Ho3+'\n",
    "for i, fs in enumerate (FieldStrengths):\n",
    "    magnetization[i,0] = Ho.magnetization(ion, temp, [fs,0,0]) # field along X\n",
    "    magnetization[i,1] = Ho.magnetization(ion, temp, [0,fs,0]) # field along Y\n",
    "    magnetization[1,2] = Ho.magnetization(ion, temp, [0,0,fs]) # field along Z"
   ]
  },
  {
   "cell_type": "code",
   "execution_count": 34,
   "id": "07025177",
   "metadata": {},
   "outputs": [],
   "source": [
    "# Calculate temperature dependent susceptibility in a 6.5 T field\n",
    "Temperatures = np.arange(10, 300, 10)\n",
    "\n",
    "# For powder average susceptibility, Field is a scalar\n",
    "CalcSuscep = Ho.susceptibility(ion='Ho3+', Temps=Temperatures,\n",
    "                               Field=[0.5, 0, 0], deltaField=0.001)"
   ]
  },
  {
   "cell_type": "code",
   "execution_count": 38,
   "id": "6d8e45f8",
   "metadata": {},
   "outputs": [
    {
     "data": {
      "image/png": "[encoded data removed]",
      "text/plain": [
       "<Figure size 1000x600 with 1 Axes>"
      ]
     },
     "metadata": {},
     "output_type": "display_data"
    }
   ],
   "source": [
    "import numpy as np\n",
    "import matplotlib.pyplot as plt\n",
    "\n",
    "# Calculate temperature dependent susceptibility in a 6.5 T field\n",
    "Temperatures = np.arange(10, 300, 10)\n",
    "\n",
    "# For powder average susceptibility, Field is a scalar\n",
    "CalcSuscep = Ho.susceptibility(ion='Ho3+', Temps=Temperatures,\n",
    "                               Field=[0.5, 0, 0], deltaField=0.001)\n",
    "\n",
    "# Create the plot\n",
    "plt.figure(figsize=(10, 6))\n",
    "plt.plot(Temperatures, CalcSuscep, 'b-', linewidth=2)\n",
    "plt.xlabel('Temperature (K)', fontsize=12)\n",
    "plt.ylabel('Susceptibility', fontsize=12)\n",
    "plt.title('Ho$^{3+}$ Susceptibility vs. Temperature (0.5 T field)', fontsize=14)\n",
    "plt.grid(True, alpha=0.3)\n",
    "plt.xlim(0, 300)\n",
    "plt.tight_layout()\n",
    "plt.show()"
   ]
  },
  {
   "cell_type": "code",
   "execution_count": 37,
   "id": "808e1a2f",
   "metadata": {},
   "outputs": [
    {
     "ename": "TypeError",
     "evalue": "'module' object is not callable",
     "output_type": "error",
     "traceback": [
      "\u001b[31m---------------------------------------------------------------------------\u001b[39m",
      "\u001b[31mTypeError\u001b[39m                                 Traceback (most recent call last)",
      "\u001b[36mCell\u001b[39m\u001b[36m \u001b[39m\u001b[32mIn[37]\u001b[39m\u001b[32m, line 2\u001b[39m\n\u001b[32m      1\u001b[39m \u001b[38;5;28;01mimport\u001b[39;00m\u001b[38;5;250m \u001b[39m\u001b[34;01mmatplotlib\u001b[39;00m\u001b[34;01m.\u001b[39;00m\u001b[34;01mpyplot\u001b[39;00m\u001b[38;5;250m \u001b[39m\u001b[38;5;28;01mas\u001b[39;00m\u001b[38;5;250m \u001b[39m\u001b[34;01mplt\u001b[39;00m\n\u001b[32m----> \u001b[39m\u001b[32m2\u001b[39m \u001b[43mplt\u001b[49m\u001b[43m(\u001b[49m\u001b[43mCalcSuscep\u001b[49m\u001b[43m)\u001b[49m\n",
      "\u001b[31mTypeError\u001b[39m: 'module' object is not callable"
     ]
    }
   ],
   "source": [
    "import matplotlib.pyplot as plt\n",
    "plt(CalcSuscep)"
   ]
  }
 ],
 "metadata": {
  "kernelspec": {
   "display_name": "venv",
   "language": "python",
   "name": "python3"
  },
  "language_info": {
   "codemirror_mode": {
    "name": "ipython",
    "version": 3
   },
   "file_extension": ".py",
   "mimetype": "text/x-python",
   "name": "python",
   "nbconvert_exporter": "python",
   "pygments_lexer": "ipython3",
   "version": "3.12.7"
  }
 },
 "nbformat": 4,
 "nbformat_minor": 5
}
