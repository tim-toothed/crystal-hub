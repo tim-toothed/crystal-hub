{
 "cells": [
  {
   "cell_type": "markdown",
   "metadata": {},
   "source": [
    "# NJA-CFS Tutorial - Basic Usage\n",
    "## Not Just Another Crystal Field Software\n",
    "\n",
    "This notebook demonstrates basic usage of NJA-CFS for crystal field/ligand field calculations on d^n and f^n systems."
   ]
  },
  {
   "cell_type": "markdown",
   "metadata": {},
   "source": [
    "## 1. Import the module"
   ]
  },
  {
   "cell_type": "code",
   "execution_count": 1,
   "metadata": {},
   "outputs": [
    {
     "name": "stdout",
     "output_type": "stream",
     "text": [
      "\n",
      "\n",
      "************************************************************\n",
      "   NJA-CFS (Not Just Another - Crystal Field Software)\n",
      "   Version: 1.2.0\n",
      "   Date: October 07, 2025\n",
      "************************************************************\n",
      "\n",
      "\n"
     ]
    },
    {
     "name": "stderr",
     "output_type": "stream",
     "text": [
      "c:\\Users\\Timur\\Documents\\Python_Scripts\\crystal-hub\\raw_packages\\NJA-CFS\\nja_cfs_red.py:2110: NumbaPerformanceWarning: \u001b[1m\u001b[1mnp.dot() is faster on contiguous arrays, called on (Array(complex128, 2, 'A', False, aligned=True), Array(complex128, 1, 'C', False, aligned=True))\u001b[0m\u001b[0m\n",
      "  mu_single = np.dot(np.conj(np.ascontiguousarray(result[1:, ii]).T), np.dot(mu_matrix[kk, ...], np.ascontiguousarray(result[1:, ii])))\n"
     ]
    }
   ],
   "source": [
    "import numpy as np\n",
    "import matplotlib.pyplot as plt\n",
    "import nja_cfs_red as nja\n",
    "\n",
    "# The program info will print automatically on import"
   ]
  },
  {
   "cell_type": "markdown",
   "metadata": {},
   "source": [
    "## 2. Example 1: Simple f^7 calculation (Gd³⁺, Tb³⁺)\n",
    "### Free ion calculation with electron-electron repulsion and spin-orbit coupling"
   ]
  },
  {
   "cell_type": "code",
   "execution_count": 2,
   "metadata": {},
   "outputs": [
    {
     "name": "stdout",
     "output_type": "stream",
     "text": [
      "\n",
      "Configuration: f7\n",
      "Number of microstates: 3432\n",
      "Ground state only calculation\n",
      "Basis set reduced to: 8\n",
      "\n",
      "Basis set size: 8\n",
      "Configuration: f7\n"
     ]
    }
   ],
   "source": [
    "# Create calculation object for f^7 configuration\n",
    "# ground_only=True means we only consider the ground multiplet (⁸S for f^7)\n",
    "# TAB=True means use pre-calculated tables for reduced matrix elements\n",
    "calc = nja.calculation('f7', ground_only=True, TAB=True, wordy=True)\n",
    "\n",
    "print(f\"\\nBasis set size: {calc.basis.shape[0]}\")\n",
    "print(f\"Configuration: {calc.conf}\")"
   ]
  },
  {
   "cell_type": "code",
   "execution_count": 3,
   "metadata": {},
   "outputs": [
    {
     "name": "stdout",
     "output_type": "stream",
     "text": [
      "\n",
      "Free ion parameters (cm⁻¹):\n",
      "F² = 114742.0\n",
      "F⁴ = 71865.0\n",
      "F⁶ = 51662.0\n",
      "ζ  = 1561.0\n"
     ]
    }
   ],
   "source": [
    "# Get free ion parameters (Hartree-Fock values)\n",
    "params = nja.free_ion_param_f_HF('f7')\n",
    "print(\"\\nFree ion parameters (cm⁻¹):\")\n",
    "print(f\"F² = {params['F2']:.1f}\")\n",
    "print(f\"F⁴ = {params['F4']:.1f}\")\n",
    "print(f\"F⁶ = {params['F6']:.1f}\")\n",
    "print(f\"ζ  = {params['zeta']:.1f}\")"
   ]
  },
  {
   "cell_type": "code",
   "execution_count": 4,
   "metadata": {},
   "outputs": [
    {
     "name": "stdout",
     "output_type": "stream",
     "text": [
      "\n",
      "Performing calculation with the following contributions: \n",
      "['Hee', 'Hso']\n",
      "Calculation result: \n",
      "E0: 38409738.309\n",
      "      0.000 (8)\n",
      "\n",
      "Ground state energy: 38409738.309 cm⁻¹\n",
      "Energy range: 0.000 cm⁻¹\n"
     ]
    }
   ],
   "source": [
    "# Run calculation with electron-electron repulsion and spin-orbit coupling\n",
    "result = calc.MatrixH(\n",
    "    ['Hee', 'Hso'],  # Include e-e repulsion and SOC\n",
    "    F2=params['F2'],\n",
    "    F4=params['F4'],\n",
    "    F6=params['F6'],\n",
    "    zeta=params['zeta'],\n",
    "    wordy=True\n",
    ")\n",
    "\n",
    "# Result format: first row = eigenvalues, remaining rows = eigenvectors\n",
    "energies = result[0, :].real\n",
    "print(f\"\\nGround state energy: {energies[0]:.3f} cm⁻¹\")\n",
    "print(f\"Energy range: {energies[-1] - energies[0]:.3f} cm⁻¹\")"
   ]
  },
  {
   "cell_type": "markdown",
   "metadata": {},
   "source": [
    "## 3. Example 2: Crystal Field Calculation\n",
    "### Point charge model for a coordination environment"
   ]
  },
  {
   "cell_type": "code",
   "execution_count": 5,
   "metadata": {},
   "outputs": [
    {
     "name": "stdout",
     "output_type": "stream",
     "text": [
      "Ligand environment (octahedral):\n",
      "Label    x      y      z    charge\n",
      "O       2.00   0.00   0.00   -2.00\n",
      "O      -2.00   0.00   0.00   -2.00\n",
      "O       0.00   2.00   0.00   -2.00\n",
      "O       0.00  -2.00   0.00   -2.00\n",
      "O       0.00   0.00   2.00   -2.00\n",
      "O       0.00   0.00  -2.00   -2.00\n"
     ]
    }
   ],
   "source": [
    "# Create ligand coordinates manually (octahedral environment)\n",
    "# Format: label, x, y, z, charge\n",
    "# Metal center at origin, ligands at ±2 Å along axes\n",
    "ligand_data = np.array([\n",
    "    ['O', 2.0, 0.0, 0.0, -2.0],    # O²⁻ at +x\n",
    "    ['O', -2.0, 0.0, 0.0, -2.0],   # O²⁻ at -x\n",
    "    ['O', 0.0, 2.0, 0.0, -2.0],    # O²⁻ at +y\n",
    "    ['O', 0.0, -2.0, 0.0, -2.0],   # O²⁻ at -y\n",
    "    ['O', 0.0, 0.0, 2.0, -2.0],    # O²⁻ at +z\n",
    "    ['O', 0.0, 0.0, -2.0, -2.0],   # O²⁻ at -z\n",
    "], dtype=object)\n",
    "\n",
    "print(\"Ligand environment (octahedral):\")\n",
    "print(\"Label    x      y      z    charge\")\n",
    "for row in ligand_data:\n",
    "    print(f\"{row[0]:5s} {float(row[1]):6.2f} {float(row[2]):6.2f} {float(row[3]):6.2f}  {float(row[4]):6.2f}\")"
   ]
  },
  {
   "cell_type": "code",
   "execution_count": 6,
   "metadata": {},
   "outputs": [
    {
     "name": "stdout",
     "output_type": "stream",
     "text": [
      "\n",
      "Crystal field parameters Bₖᵍ (cm⁻¹):\n",
      "\n",
      "k = 2:\n",
      "\n",
      "k = 4:\n",
      "  B4 0 = -4743.4858\n",
      "  B4 4 = -2834.7750\n",
      "\n",
      "k = 6:\n",
      "  B6 0 =  -399.2825\n",
      "  B6 4 =   746.9891\n"
     ]
    }
   ],
   "source": [
    "# Calculate crystal field parameters using point charge model\n",
    "# This calculates Bₖᵍ parameters in Wybourne notation\n",
    "dic_bkq = nja.calc_Bkq(\n",
    "    ligand_data,\n",
    "    'f7',\n",
    "    sph_flag=False,      # Coordinates are Cartesian (not spherical)\n",
    "    sth_param=False      # Don't use Sternheimer shielding\n",
    ")\n",
    "\n",
    "print(\"\\nCrystal field parameters Bₖᵍ (cm⁻¹):\")\n",
    "for k in sorted(dic_bkq.keys(), key=int):\n",
    "    print(f\"\\nk = {k}:\")\n",
    "    for q in sorted(dic_bkq[k].keys(), key=lambda x: int(x)):\n",
    "        value = dic_bkq[k][q]\n",
    "        if abs(value) > 1e-6:\n",
    "            print(f\"  B{k}{q:>2s} = {value:10.4f}\")"
   ]
  },
  {
   "cell_type": "code",
   "execution_count": 7,
   "metadata": {},
   "outputs": [
    {
     "name": "stdout",
     "output_type": "stream",
     "text": [
      "\n",
      "Performing calculation with the following contributions: \n",
      "['Hee', 'Hso', 'Hcf']\n",
      "Calculation result: \n",
      "E0: 38409738.309\n",
      "      0.000 (8)\n",
      "\n",
      "Crystal field splitting: 0.000 cm⁻¹\n"
     ]
    }
   ],
   "source": [
    "# Run full calculation including crystal field\n",
    "calc_cf = nja.calculation('f7', ground_only=True, TAB=True, wordy=False)\n",
    "\n",
    "result_cf = calc_cf.MatrixH(\n",
    "    ['Hee', 'Hso', 'Hcf'],  # Add crystal field\n",
    "    F2=params['F2'],\n",
    "    F4=params['F4'],\n",
    "    F6=params['F6'],\n",
    "    zeta=params['zeta'],\n",
    "    dic_bkq=dic_bkq,\n",
    "    wordy=True\n",
    ")\n",
    "\n",
    "energies_cf = result_cf[0, :].real\n",
    "energies_cf_rel = energies_cf - energies_cf[0]\n",
    "\n",
    "print(f\"\\nCrystal field splitting: {energies_cf_rel[-1]:.3f} cm⁻¹\")"
   ]
  },
  {
   "cell_type": "markdown",
   "metadata": {},
   "source": [
    "## 4. Visualize Energy Levels"
   ]
  },
  {
   "cell_type": "code",
   "execution_count": 8,
   "metadata": {},
   "outputs": [
    {
     "data": {
      "image/png": "[encoded data removed]",
      "text/plain": [
       "<Figure size 1000x600 with 2 Axes>"
      ]
     },
     "metadata": {},
     "output_type": "display_data"
    }
   ],
   "source": [
    "# Plot energy level diagram\n",
    "fig, (ax1, ax2) = plt.subplots(1, 2, figsize=(10, 6))\n",
    "\n",
    "# Free ion levels\n",
    "energies_rel = energies - energies[0]\n",
    "for i, E in enumerate(energies_rel):\n",
    "    ax1.hlines(E, 0.4, 0.6, colors='blue', linewidth=2)\n",
    "ax1.set_xlim(0, 1)\n",
    "ax1.set_ylabel('Energy (cm⁻¹)')\n",
    "ax1.set_title('Free Ion (Hₑₑ + Hₛₒ)')\n",
    "ax1.set_xticks([])\n",
    "\n",
    "# Crystal field levels\n",
    "for i, E in enumerate(energies_cf_rel):\n",
    "    ax2.hlines(E, 0.4, 0.6, colors='red', linewidth=2)\n",
    "ax2.set_xlim(0, 1)\n",
    "ax2.set_ylabel('Energy (cm⁻¹)')\n",
    "ax2.set_title('Crystal Field (Hₑₑ + Hₛₒ + Hcf)')\n",
    "ax2.set_xticks([])\n",
    "\n",
    "plt.tight_layout()\n",
    "plt.show()"
   ]
  },
  {
   "cell_type": "markdown",
   "metadata": {},
   "source": [
    "## 5. Magnetic Properties"
   ]
  },
  {
   "cell_type": "code",
   "execution_count": 13,
   "metadata": {},
   "outputs": [
    {
     "name": "stdout",
     "output_type": "stream",
     "text": [
      "\n",
      "Susceptibility tensor at 300 K (SI units, m³):\n",
      "[[5.49244286e-31 0.00000000e+00 0.00000000e+00]\n",
      " [0.00000000e+00 5.49244286e-31 0.00000000e+00]\n",
      " [0.00000000e+00 0.00000000e+00 5.49244976e-31]]\n",
      "\n",
      "χ_avg = 5.492445e-31 m³\n",
      "χ_avg (cm³/mol) = 5.492445e-25\n"
     ]
    }
   ],
   "source": [
    "## 5. Magnetic Properties - CORRECTED VERSION\n",
    "\n",
    "# First, we need to build the LF matrix properly\n",
    "LF_matrix = calc_cf.build_matrix(\n",
    "    ['Hee', 'Hso', 'Hcf'],\n",
    "    F2=params['F2'],\n",
    "    F4=params['F4'],\n",
    "    F6=params['F6'],\n",
    "    zeta=params['zeta'],\n",
    "    dic_bkq=dic_bkq\n",
    ")\n",
    "\n",
    "# Initialize Magnetics object\n",
    "magn = nja.Magnetics(\n",
    "    calc_cf,\n",
    "    ['Hee', 'Hso', 'Hcf'],\n",
    "    {'F2': params['F2'], 'F4': params['F4'], 'F6': params['F6'], \n",
    "     'zeta': params['zeta'], 'dic_bkq': dic_bkq},\n",
    "    wordy=False\n",
    ")\n",
    "\n",
    "# Fix basis type for numba compatibility\n",
    "basis_float = calc_cf.basis.astype(np.float64)\n",
    "\n",
    "# Calculate susceptibility tensor at a specific temperature\n",
    "field_direction = np.array([[0., 0., 0.01]])  # Small field in Tesla\n",
    "temp = 300  # Kelvin\n",
    "\n",
    "chi_tensor, err = magn.susceptibility_B_ord1(\n",
    "    field_direction,\n",
    "    temp,\n",
    "    basis_float,  # Use float64 version\n",
    "    LF_matrix,\n",
    "    delta=1.0\n",
    ")\n",
    "\n",
    "print(f\"\\nSusceptibility tensor at {temp} K (SI units, m³):\")\n",
    "print(chi_tensor)\n",
    "print(f\"\\nχ_avg = {np.trace(chi_tensor)/3:.6e} m³\")\n",
    "print(f\"χ_avg (cm³/mol) = {np.trace(chi_tensor)/3 * 1e6:.6e}\")"
   ]
  },
  {
   "cell_type": "markdown",
   "metadata": {},
   "source": [
    "## 6. Effective g-values for Ground Kramers Doublet"
   ]
  },
  {
   "cell_type": "code",
   "execution_count": 10,
   "metadata": {},
   "outputs": [
    {
     "name": "stdout",
     "output_type": "stream",
     "text": [
      "\n",
      "Effective g-tensor for ground Kramers doublet:\n",
      "g_x = 0.0000\n",
      "g_y = 0.0000\n",
      "g_z = 14.0161\n",
      "\n",
      "g_avg = 4.6720\n",
      "Anisotropy: 14.0161\n"
     ]
    }
   ],
   "source": [
    "# For systems with Kramers doublets (odd number of electrons)\n",
    "# Calculate effective g-tensor for ground doublet\n",
    "\n",
    "# Note: This works for half-integer spin systems\n",
    "# For f^7 (S=7/2), the ground state should be split by crystal field\n",
    "\n",
    "if calc_cf.basis.shape[0] > 1:  # If there's splitting\n",
    "    # Ground Kramers doublet is levels 0 and 1\n",
    "    g_values, g_directions = magn.effGval(\n",
    "        levels=[0, 1],  # Ground doublet\n",
    "        v_matrix=result_cf[1:, :]  # Eigenvectors\n",
    "    )\n",
    "    \n",
    "    print(\"\\nEffective g-tensor for ground Kramers doublet:\")\n",
    "    print(f\"g_x = {g_values[0]:.4f}\")\n",
    "    print(f\"g_y = {g_values[1]:.4f}\")\n",
    "    print(f\"g_z = {g_values[2]:.4f}\")\n",
    "    print(f\"\\ng_avg = {np.mean(g_values):.4f}\")\n",
    "    print(f\"Anisotropy: {np.max(g_values) - np.min(g_values):.4f}\")"
   ]
  },
  {
   "cell_type": "markdown",
   "metadata": {},
   "source": [
    "## 7. Alternative Input Methods\n",
    "### Using different crystal field parameter formats"
   ]
  },
  {
   "cell_type": "code",
   "execution_count": null,
   "metadata": {},
   "outputs": [
    {
     "name": "stdout",
     "output_type": "stream",
     "text": [
      "Conversion from V matrix to Bkq successful!\n",
      "Number of k values: 4\n",
      "\n",
      "All input methods demonstrated successfully!\n"
     ]
    }
   ],
   "source": [
    "## 7. Alternative Input Methods - CORRECTED\n",
    "\n",
    "# Method A: Direct Bkq parameters (Wybourne notation)\n",
    "dic_bkq_manual = {\n",
    "    '2': {'0': 100.0, '1': 0.0, '-1': 0.0, '2': 50.0, '-2': 0.0},\n",
    "    '4': {'0': 20.0, '1': 0.0, '-1': 0.0, '2': 0.0, '-2': 0.0,\n",
    "          '3': 0.0, '-3': 0.0, '4': 10.0, '-4': 0.0},\n",
    "    '6': {str(q): 0.0 for q in range(-6, 7)}\n",
    "}\n",
    "\n",
    "# Method B: One-electron matrix elements - COMPLETE VERSION for f orbitals\n",
    "# Order: 0, -1, 1, -2, 2, -3, 3 (corresponding to indices 1-7)\n",
    "dic_V_complete = {\n",
    "    '11': 1000.0,\n",
    "    '21': 0.0, '22': 800.0,\n",
    "    '31': 0.0, '32': 0.0, '33': 800.0,\n",
    "    '41': 0.0, '42': 0.0, '43': 0.0, '44': 900.0,\n",
    "    '51': 0.0, '52': 0.0, '53': 0.0, '54': 0.0, '55': 900.0,\n",
    "    '61': 0.0, '62': 0.0, '63': 0.0, '64': 0.0, '65': 0.0, '66': 850.0,\n",
    "    '71': 0.0, '72': 0.0, '73': 0.0, '74': 0.0, '75': 0.0, '76': 0.0, '77': 850.0\n",
    "}\n",
    "\n",
    "# Now this will work:\n",
    "dic_bkq_from_V = nja.from_Vint_to_Bkq(dic_V_complete, 'f7')\n",
    "print(\"Conversion from V matrix to Bkq successful!\")\n",
    "print(f\"Number of k values: {len(dic_bkq_from_V)}\")\n",
    "\n",
    "# Method C: Angular Overlap Model (AOM)\n",
    "# Note: This requires defining all ligands in the coordination sphere\n",
    "dic_AOM_example = {\n",
    "    'O1': [5000, 500, 500, 0, 0, 0],      # [e_σ, e_π_s, e_π_c, θ, φ, χ]\n",
    "    'O2': [5000, 500, 500, 90, 0, 0],     # Second ligand\n",
    "    # Add all ligands...\n",
    "}\n",
    "# Uncomment to use:\n",
    "# dic_V_from_AOM = nja.from_AOM_to_Vint(dic_AOM_example, 'f7')\n",
    "# dic_bkq_from_AOM = nja.from_Vint_to_Bkq(dic_V_from_AOM, 'f7')"
   ]
  },
  {
   "cell_type": "markdown",
   "metadata": {},
   "source": [
    "## Summary\n",
    "\n",
    "This notebook demonstrated:\n",
    "1. Basic calculation setup\n",
    "2. Free ion calculations (electron-electron + spin-orbit)\n",
    "3. Crystal field calculations from point charges\n",
    "4. Energy level visualization\n",
    "5. Magnetic property calculations\n",
    "6. Different parameter input formats\n",
    "\n",
    "**Key functions:**\n",
    "- `calculation()` - Initialize calculation\n",
    "- `MatrixH()` - Build and diagonalize Hamiltonian\n",
    "- `calc_Bkq()` - Calculate CF parameters from coordinates\n",
    "- `Magnetics()` - Magnetic properties\n",
    "- `effGval()` - Effective g-tensors"
   ]
  }
 ],
 "metadata": {
  "kernelspec": {
   "display_name": "venv",
   "language": "python",
   "name": "python3"
  },
  "language_info": {
   "codemirror_mode": {
    "name": "ipython",
    "version": 3
   },
   "file_extension": ".py",
   "mimetype": "text/x-python",
   "name": "python",
   "nbconvert_exporter": "python",
   "pygments_lexer": "ipython3",
   "version": "3.12.7"
  }
 },
 "nbformat": 4,
 "nbformat_minor": 4
}
